{
 "cells": [
  {
   "cell_type": "markdown",
   "id": "06724954",
   "metadata": {},
   "source": [
    "## Условие 2:\n",
    "На складе лежат разные фрукты в разном количестве.\n",
    "Нужно написать функцию, которая на вход принимает любое количество названий фруктов и их количество, а возвращает общее количество фруктов на складе"
   ]
  },
  {
   "cell_type": "code",
   "execution_count": 1,
   "id": "811a8839",
   "metadata": {},
   "outputs": [],
   "source": [
    "def fruits_count(**fruits) -> int:\n",
    "    suma = sum(fruits.values())\n",
    "    return suma"
   ]
  },
  {
   "cell_type": "code",
   "execution_count": 2,
   "id": "3735945c",
   "metadata": {},
   "outputs": [
    {
     "name": "stdout",
     "output_type": "stream",
     "text": [
      "Общее количество фруктов на складе: 63\n"
     ]
    }
   ],
   "source": [
    "print(f'Общее количество фруктов на складе: {fruits_count(banana = 10, apples = 32, grape = 21)}')"
   ]
  },
  {
   "cell_type": "markdown",
   "id": "47c99983",
   "metadata": {},
   "source": [
    "## Условие 3:\n",
    "Дан список с затратами на рекламу. Но в данных есть ошибки, некоторые затраты имеют отрицательную величину. Удалите такие значения из списка и посчитайте суммарные затраты\n",
    "[100, 125, -90, 345, 655, -1, 0, 200]\n",
    "Используйте list comprehensions"
   ]
  },
  {
   "cell_type": "code",
   "execution_count": 3,
   "id": "39d3b355",
   "metadata": {},
   "outputs": [],
   "source": [
    "ad_spend = [100, 125, -90, 345, 655, -1, 0, 200]"
   ]
  },
  {
   "cell_type": "code",
   "execution_count": 4,
   "id": "62015e58",
   "metadata": {},
   "outputs": [],
   "source": [
    "def correction_spend(spends: list) -> list:\n",
    "    corrected = [i for i in spends if i > 0]\n",
    "    return corrected\n",
    "\n",
    "def total_spend(spends: list) -> int:\n",
    "    suma = sum(spends)\n",
    "    return suma"
   ]
  },
  {
   "cell_type": "code",
   "execution_count": 5,
   "id": "04155032",
   "metadata": {},
   "outputs": [
    {
     "name": "stdout",
     "output_type": "stream",
     "text": [
      "Изначальный список затрат: [100, 125, -90, 345, 655, -1, 0, 200]\n",
      "Исправленный список затрат: [100, 125, 345, 655, 200]\n",
      "Суммарные затраты: 1425\n"
     ]
    }
   ],
   "source": [
    "print(f'Изначальный список затрат: {ad_spend}')\n",
    "\n",
    "ad_spend_corrected = correction_spend(ad_spend)\n",
    "totals = total_spend(ad_spend_corrected)\n",
    "\n",
    "print(f'Исправленный список затрат: {ad_spend_corrected}')\n",
    "print(f'Суммарные затраты: {totals}')"
   ]
  },
  {
   "cell_type": "markdown",
   "id": "9e4ea1b2",
   "metadata": {},
   "source": [
    "## Условие 4:\n",
    "Даны два списка.\n",
    "\n",
    "**Дата покупки**\n",
    "\n",
    "['2021-09-14', '2021-12-15', '2021-09-08', '2021-12-05', '2021-10-09', '2021-09-30', '2021-12-22', '2021-11-29', '2021-12-24', '2021-11-26', '2021-10-27', '2021-12-18', '2021-11-09', '2021-11-23', '2021-09-27', '2021-10-02', '2021-12-27', '2021-09-20', '2021-12-13', '2021-11-01', '2021-11-09', '2021-12-06', '2021-12-08', '2021-10-09', '2021-10-31', '2021-09-30', '2021-11-09', '2021-12-13', '2021-10-26', '2021-12-09']\n",
    "\n",
    "**Суммы покупок по датам**\n",
    "\n",
    "[1270, 8413, 9028, 3703, 5739, 4095, 295, 4944, 5723, 3701, 4471, 651, 7037, 4274, 6275, 4988, 6930, 2971, 6592, 2004, 2822, 519, 3406, 2732, 5015, 2008, 316, 6333, 5700, 2887]"
   ]
  },
  {
   "cell_type": "code",
   "execution_count": 6,
   "id": "0fb21eb7",
   "metadata": {},
   "outputs": [],
   "source": [
    "purchase_date = ['2021-09-14', '2021-12-15', '2021-09-08', '2021-12-05', '2021-10-09', '2021-09-30', '2021-12-22', '2021-11-29', '2021-12-24', '2021-11-26', '2021-10-27', '2021-12-18', '2021-11-09', '2021-11-23', '2021-09-27', '2021-10-02', '2021-12-27', '2021-09-20', '2021-12-13', '2021-11-01', '2021-11-09', '2021-12-06', '2021-12-08', '2021-10-09', '2021-10-31', '2021-09-30', '2021-11-09', '2021-12-13', '2021-10-26', '2021-12-09']\n",
    "purchase_sums = [1270, 8413, 9028, 3703, 5739, 4095, 295, 4944, 5723, 3701, 4471, 651, 7037, 4274, 6275, 4988, 6930, 2971, 6592, 2004, 2822, 519, 3406, 2732, 5015, 2008, 316, 6333, 5700, 2887]"
   ]
  },
  {
   "cell_type": "markdown",
   "id": "ccf69851",
   "metadata": {},
   "source": [
    "### 4.1 Найдите, какая выручка у компании в ноябре\n",
    "Используйте list comprehensions"
   ]
  },
  {
   "cell_type": "code",
   "execution_count": 7,
   "id": "9c885659",
   "metadata": {},
   "outputs": [
    {
     "data": {
      "text/plain": [
       "{'2021-09-14': 1270,\n",
       " '2021-12-15': 8413,\n",
       " '2021-09-08': 9028,\n",
       " '2021-12-05': 3703,\n",
       " '2021-10-09': 2732,\n",
       " '2021-09-30': 2008,\n",
       " '2021-12-22': 295,\n",
       " '2021-11-29': 4944,\n",
       " '2021-12-24': 5723,\n",
       " '2021-11-26': 3701,\n",
       " '2021-10-27': 4471,\n",
       " '2021-12-18': 651,\n",
       " '2021-11-09': 316,\n",
       " '2021-11-23': 4274,\n",
       " '2021-09-27': 6275,\n",
       " '2021-10-02': 4988,\n",
       " '2021-12-27': 6930,\n",
       " '2021-09-20': 2971,\n",
       " '2021-12-13': 6333,\n",
       " '2021-11-01': 2004,\n",
       " '2021-12-06': 519,\n",
       " '2021-12-08': 3406,\n",
       " '2021-10-31': 5015,\n",
       " '2021-10-26': 5700,\n",
       " '2021-12-09': 2887}"
      ]
     },
     "execution_count": 7,
     "metadata": {},
     "output_type": "execute_result"
    }
   ],
   "source": [
    "date_sum = {purchase_date[i] : purchase_sums[i] for i in range(len(purchase_date))}\n",
    "date_sum"
   ]
  },
  {
   "cell_type": "code",
   "execution_count": 8,
   "id": "57537782",
   "metadata": {},
   "outputs": [],
   "source": [
    "dates_list = list(date_sum.keys())\n",
    "profits_list = list(date_sum.values())"
   ]
  },
  {
   "cell_type": "code",
   "execution_count": 9,
   "id": "95a2432c",
   "metadata": {},
   "outputs": [],
   "source": [
    "nov = sum([profits_list[i] for i in range(len(dates_list)) if '-11-' in dates_list[i]])"
   ]
  },
  {
   "cell_type": "code",
   "execution_count": 10,
   "id": "27b0b9a3",
   "metadata": {},
   "outputs": [
    {
     "name": "stdout",
     "output_type": "stream",
     "text": [
      "Выручка компании в ноябре: 15239\n"
     ]
    }
   ],
   "source": [
    "print(f'Выручка компании в ноябре: {nov}')"
   ]
  },
  {
   "cell_type": "markdown",
   "id": "33576491",
   "metadata": {},
   "source": [
    "### 4.2 Найдите выручку компании в зависимости от месяца\n",
    "Для этого напишите функцию, которая на вход принимает список с датами и список с выручкой, а на выходе словарь, где ключи - это месяцы, а значения - это выручка.\n",
    "Используйте аннотирование типов."
   ]
  },
  {
   "cell_type": "code",
   "execution_count": 11,
   "id": "f0e73922",
   "metadata": {},
   "outputs": [],
   "source": [
    "def month_profit(dates: list, profits: list) -> dict:\n",
    "#     month = 1\n",
    "    result = {}\n",
    "    for month in range(1, 13):\n",
    "        if month < 10:\n",
    "            month_str = '-0' + str(month) + '-'\n",
    "        else:\n",
    "            month_str = '-' + str(month) + '-'\n",
    "        money = sum([profits[i] for i in range(len(dates)) if month_str in dates[i]])\n",
    "        result.update({month : money})\n",
    "        money = 0\n",
    "    return result"
   ]
  },
  {
   "cell_type": "code",
   "execution_count": 12,
   "id": "d156df1f",
   "metadata": {},
   "outputs": [
    {
     "data": {
      "text/plain": [
       "{1: 0,\n",
       " 2: 0,\n",
       " 3: 0,\n",
       " 4: 0,\n",
       " 5: 0,\n",
       " 6: 0,\n",
       " 7: 0,\n",
       " 8: 0,\n",
       " 9: 25647,\n",
       " 10: 28645,\n",
       " 11: 25098,\n",
       " 12: 45452}"
      ]
     },
     "execution_count": 12,
     "metadata": {},
     "output_type": "execute_result"
    }
   ],
   "source": [
    "month_profit(purchase_date, purchase_sums)"
   ]
  }
 ],
 "metadata": {
  "kernelspec": {
   "display_name": "Python 3 (ipykernel)",
   "language": "python",
   "name": "python3"
  },
  "language_info": {
   "codemirror_mode": {
    "name": "ipython",
    "version": 3
   },
   "file_extension": ".py",
   "mimetype": "text/x-python",
   "name": "python",
   "nbconvert_exporter": "python",
   "pygments_lexer": "ipython3",
   "version": "3.9.12"
  }
 },
 "nbformat": 4,
 "nbformat_minor": 5
}
